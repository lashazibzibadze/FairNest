{
 "cells": [
  {
   "cell_type": "code",
   "execution_count": 8,
   "metadata": {},
   "outputs": [],
   "source": [
    "#import dependencies\n",
    "import os\n",
    "import json\n",
    "from dotenv import load_dotenv\n",
    "from supabase import create_client, Client\n",
    "import requests"
   ]
  },
  {
   "cell_type": "code",
   "execution_count": null,
   "metadata": {},
   "outputs": [
    {
     "name": "stdout",
     "output_type": "stream",
     "text": [
      "Supabase client initialized successfully!\n"
     ]
    }
   ],
   "source": [
    "#Initialize supabase connection\n",
    "\n",
    "load_dotenv()\n",
    "SUPABASE_URL = os.getenv(\"SUPABASE_URL\")\n",
    "SUPABASE_KEY = os.getenv(\"SUPABASE_KEY\")\n",
    "SUPABASE_URL = os.getenv(\"SUPABASE_URL\")\n",
    "GOOGLE_GEOCODE_KEY = os.getenv('GOOGLE_GEOCODE_API')\n",
    "\n",
    "supabase: Client = create_client(SUPABASE_URL, SUPABASE_KEY)\n",
    "print(\"Supabase client initialized successfully!\")"
   ]
  },
  {
   "cell_type": "code",
   "execution_count": null,
   "metadata": {},
   "outputs": [],
   "source": [
    "#Helper function to read dataset\n",
    "def getData(filePath):\n",
    "    with open(filePath, 'r') as f:\n",
    "        data = json.load(f)\n",
    "        return data"
   ]
  },
  {
   "cell_type": "code",
   "execution_count": 12,
   "metadata": {},
   "outputs": [],
   "source": [
    "#Helper function to get geocode with google API\n",
    "\n",
    "def get_geocode(address_data):\n",
    "    address = f\"{address_data['premise']} {address_data['street']}, {address_data['locality']}, {address_data['administrative_area']}\"\n",
    "    uri = f\"https://maps.googleapis.com/maps/api/geocode/json?key={GOOGLE_GEOCODE_KEY}&address={address}\"\n",
    "    response = requests.get(uri)\n",
    "    if response.status_code == 200:\n",
    "        data = response.json()\n",
    "        if data['results']:\n",
    "            location = data['results'][0]['geometry']['location']\n",
    "            return location['lat'], location['lng']\n",
    "    return None, None"
   ]
  },
  {
   "cell_type": "code",
   "execution_count": null,
   "metadata": {},
   "outputs": [],
   "source": [
    "#Insert function into supabase\n",
    "\n",
    "def insert_data(data):\n",
    "    for entry in data:\n",
    "        address_data = {\n",
    "            'country': entry['address']['country'] or '',\n",
    "            'administrative_area': entry['address']['administrative_area'] or '',\n",
    "            'sub_administrative_area': entry['address']['sub_administrative_area'] or '',\n",
    "            'locality': entry['address']['locality'] or '',\n",
    "            'postal_code': entry['address']['postal_code'] or '',\n",
    "            'street': entry['address']['street'] or '',\n",
    "            'premise': entry['address']['premise'] or '',\n",
    "            'sub_premise': entry['address']['sub_premise'] or '',\n",
    "        }\n",
    "\n",
    "        # geocode for the address\n",
    "        lat, lng = get_geocode(address_data)\n",
    "        address_data['latitude'] = lat\n",
    "        address_data['longitude'] = lng\n",
    "\n",
    "        address_response = supabase.table('address').upsert(\n",
    "            [address_data],\n",
    "            on_conflict=\"country,administrative_area,sub_administrative_area,locality,postal_code,street,premise,sub_premise\"\n",
    "        ).execute()\n",
    "        \n",
    "        if address_response.data:\n",
    "            address_id = address_response.data[0]['id']\n",
    "        else:\n",
    "            print(f\"Error upserting address data: {address_response}\")\n",
    "            continue \n",
    "        \n",
    "        # Convert None to 0 for numeric entries\n",
    "        price = entry['price'] if entry['price'] is not None else 0\n",
    "        bedrooms = entry['bedrooms'] if entry['bedrooms'] is not None else 0\n",
    "        bathrooms = entry['bathrooms'] if entry['bathrooms'] is not None else 0\n",
    "        square_feet = entry['square_feet'] if entry['square_feet'] is not None else 0\n",
    "        acre_lot = entry['acre_lot'] if entry['acre_lot'] is not None else 0\n",
    "        \n",
    "        property_listing_data = {\n",
    "            'price': price,\n",
    "            'bedrooms': bedrooms,\n",
    "            'bathrooms': bathrooms,\n",
    "            'square_feet': square_feet,\n",
    "            'sale_status': entry['sale_status'],\n",
    "            'acre_lot': acre_lot,\n",
    "            'tour_available': entry['tour_available'],\n",
    "            'image_source': entry['image_source'],\n",
    "            'address_id': address_id\n",
    "        }\n",
    "        \n",
    "        property_response = supabase.table('property_listings').upsert(\n",
    "            [property_listing_data],\n",
    "            on_conflict='address_id,price,sale_status'\n",
    "        ).execute()\n",
    "        \n",
    "        if property_response.data:\n",
    "            print(f\"Successfully upserted property listing: {property_listing_data}\")\n",
    "        else:\n",
    "            print(f\"Error upserting property listing data: {property_response}\")"
   ]
  },
  {
   "cell_type": "code",
   "execution_count": null,
   "metadata": {},
   "outputs": [],
   "source": [
    "#load json files\n",
    "brooklyn_data = getData('../scraper/json-dump/brooklyn-2025-03-15-formatted.json')\n",
    "manhattan_data = getData('../scraper/json-dump/manhattan-2025-03-15-formatted.json')\n",
    "queens_data = getData('../scraper/json-dump/queens-2025-03-15-formatted.json')\n",
    "staten_island_data = getData('../scraper/json-dump/staten-island-2025-03-15-formatted.json')\n",
    "bronx_data = getData('../scraper/json-dump-bronx-2025-03-15-formatted.json')"
   ]
  },
  {
   "cell_type": "code",
   "execution_count": null,
   "metadata": {},
   "outputs": [],
   "source": [
    "insert_data(bronx_data)"
   ]
  },
  {
   "cell_type": "code",
   "execution_count": null,
   "metadata": {},
   "outputs": [],
   "source": [
    "insert_data(manhattan_data)"
   ]
  },
  {
   "cell_type": "code",
   "execution_count": null,
   "metadata": {},
   "outputs": [],
   "source": [
    "insert_data(brooklyn_data)"
   ]
  },
  {
   "cell_type": "code",
   "execution_count": null,
   "metadata": {},
   "outputs": [],
   "source": [
    "insert_data(queens_data)"
   ]
  },
  {
   "cell_type": "code",
   "execution_count": null,
   "metadata": {},
   "outputs": [],
   "source": [
    "insert_data(staten_island_data)"
   ]
  }
 ],
 "metadata": {
  "kernelspec": {
   "display_name": "FairNest",
   "language": "python",
   "name": "python3"
  },
  "language_info": {
   "codemirror_mode": {
    "name": "ipython",
    "version": 3
   },
   "file_extension": ".py",
   "mimetype": "text/x-python",
   "name": "python",
   "nbconvert_exporter": "python",
   "pygments_lexer": "ipython3",
   "version": "3.13.2"
  }
 },
 "nbformat": 4,
 "nbformat_minor": 2
}
