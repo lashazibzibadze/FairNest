{
 "cells": [
  {
   "cell_type": "code",
   "execution_count": 12,
   "metadata": {},
   "outputs": [],
   "source": [
    "import os\n",
    "import json\n",
    "import pandas as pd\n",
    "from dotenv import load_dotenv\n",
    "from supabase import create_client, Client"
   ]
  },
  {
   "cell_type": "code",
   "execution_count": 13,
   "metadata": {},
   "outputs": [
    {
     "name": "stdout",
     "output_type": "stream",
     "text": [
      "Supabase client initialized successfully!\n"
     ]
    }
   ],
   "source": [
    "load_dotenv()\n",
    "SUPABASE_URL = os.getenv(\"SUPABASE_URL\")\n",
    "SUPABASE_KEY = os.getenv(\"SUPABASE_KEY\")\n",
    "SUPABASE_URL = os.getenv(\"SUPABASE_URL\")\n",
    "\n",
    "supabase: Client = create_client(SUPABASE_URL, SUPABASE_KEY)\n",
    "print(\"Supabase client initialized successfully!\")"
   ]
  },
  {
   "cell_type": "code",
   "execution_count": 46,
   "metadata": {},
   "outputs": [
    {
     "name": "stdout",
     "output_type": "stream",
     "text": [
      "Successfully inserted 13 listings\n",
      "Successfully inserted 13 listing details\n"
     ]
    }
   ],
   "source": [
    "json_file_path = '../scraper/json-dump/real_estate_listings.json'\n",
    "with open(json_file_path, 'r') as f:\n",
    "    data = json.load(f)\n",
    "\n",
    "listing_data_batch = []\n",
    "listing_details_batch = []\n",
    "listing_details_map = {}\n",
    "\n",
    "for listing in data:\n",
    "    address_parts = listing['Address'].split(',')\n",
    "    address = address_parts[0]\n",
    "    city = address_parts[1]\n",
    "    state = address_parts[2].split(' ')[1]\n",
    "    zipcode = address_parts[2].split(' ')[2]\n",
    "    price = int(listing['Price'].replace('$', '').replace(',', ''))\n",
    "    status = listing['Sale Status']\n",
    "    bed = listing['Bedrooms']\n",
    "    bath = listing['Bathrooms']\n",
    "    area = listing['Square Feet']\n",
    "\n",
    "    listing_data = {\n",
    "        'address': address,\n",
    "        'city': city,\n",
    "        'state': state,\n",
    "        'zip': zipcode,\n",
    "        'price': price,\n",
    "        'description': status,\n",
    "    }\n",
    "\n",
    "    listing_key = f\"{address}_{city}_{state}_{zipcode}_{price}\"\n",
    "    listing_details_map[listing_key] = {\n",
    "        'bedrooms': bed,\n",
    "        'baths': bath,\n",
    "        'area': area\n",
    "    }\n",
    "    \n",
    "    existing_listing = supabase.table('listings').select().eq('address', address).eq('city', city).eq('state', state).eq('zip', zipcode).eq('price', price).execute()\n",
    "    if existing_listing.data:\n",
    "        print(f\"Listing already exists: {listing_data}\")\n",
    "    else:\n",
    "        listing_data_batch.append(listing_data)\n",
    "\n",
    "# Insert listings data\n",
    "if listing_data_batch:\n",
    "    response = supabase.table('listings').insert(listing_data_batch).execute()\n",
    "    print(f\"Successfully inserted {len(listing_data_batch)} listings\")\n",
    "    \n",
    "    # Use the returned insert IDs to create the listing details\n",
    "    for idx, listing in enumerate(response.data):\n",
    "        # Get the details for this listing using the same key format\n",
    "        listing_key = f\"{listing_data_batch[idx]['address']}_{listing_data_batch[idx]['city']}_{listing_data_batch[idx]['state']}_{listing_data_batch[idx]['zip']}_{listing_data_batch[idx]['price']}\"\n",
    "        details = listing_details_map[listing_key]\n",
    "        \n",
    "        listing_details_data = {\n",
    "            'listing_id': listing['id'],\n",
    "            'bedrooms': details['bedrooms'],\n",
    "            'baths': details['baths'],\n",
    "            'area': details['area']\n",
    "        }\n",
    "        listing_details_batch.append(listing_details_data)\n",
    "    \n",
    "    # Insert listing details data\n",
    "    if listing_details_batch:\n",
    "        response_details = supabase.table('listing_details').insert(listing_details_batch).execute()\n",
    "        print(f\"Successfully inserted {len(listing_details_batch)} listing details\")"
   ]
  },
  {
   "cell_type": "code",
   "execution_count": 45,
   "metadata": {},
   "outputs": [
    {
     "name": "stdout",
     "output_type": "stream",
     "text": [
      "[{'listing_id': 1, 'bedrooms': '2 bed', 'baths': '1.5 bath', 'area': '1,000 square feet'}, {'listing_id': 2, 'bedrooms': '2 bed', 'baths': '1.5 bath', 'area': '1,000 square feet'}, {'listing_id': 3, 'bedrooms': '2 bed', 'baths': '1.5 bath', 'area': '1,000 square feet'}, {'listing_id': 4, 'bedrooms': '2 bed', 'baths': '1.5 bath', 'area': '1,000 square feet'}, {'listing_id': 5, 'bedrooms': '2 bed', 'baths': '1.5 bath', 'area': '1,000 square feet'}, {'listing_id': 6, 'bedrooms': '2 bed', 'baths': '1.5 bath', 'area': '1,000 square feet'}, {'listing_id': 7, 'bedrooms': '2 bed', 'baths': '1.5 bath', 'area': '1,000 square feet'}, {'listing_id': 8, 'bedrooms': '2 bed', 'baths': '1.5 bath', 'area': '1,000 square feet'}, {'listing_id': 9, 'bedrooms': '2 bed', 'baths': '1.5 bath', 'area': '1,000 square feet'}, {'listing_id': 10, 'bedrooms': '2 bed', 'baths': '1.5 bath', 'area': '1,000 square feet'}, {'listing_id': 11, 'bedrooms': '2 bed', 'baths': '1.5 bath', 'area': '1,000 square feet'}, {'listing_id': 12, 'bedrooms': '2 bed', 'baths': '1.5 bath', 'area': '1,000 square feet'}, {'listing_id': 13, 'bedrooms': '2 bed', 'baths': '1.5 bath', 'area': '1,000 square feet'}]\n"
     ]
    }
   ],
   "source": [
    "print(listing_details_batch)"
   ]
  },
  {
   "cell_type": "code",
   "execution_count": null,
   "metadata": {},
   "outputs": [],
   "source": [
    "def insert_data(data):\n",
    "    for entry in data:\n",
    "        address_data = {\n",
    "            'country': entry['address']['country'] or '',\n",
    "            'administrative_area': entry['address']['administrative_area'] or '',\n",
    "            'sub_administrative_area': entry['address']['sub_administrative_area'] or '',\n",
    "            'locality': entry['address']['locality'] or '',\n",
    "            'postal_code': entry['address']['postal_code'] or '',\n",
    "            'street': entry['address']['street'] or '',\n",
    "            'premise': entry['address']['premise'] or '',\n",
    "            'sub_premise': entry['address']['sub_premise'] or '',\n",
    "        }\n",
    "        \n",
    "        # Use upsert with on_conflict parameter to specify which fields are constrained\n",
    "        address_response = supabase.table('address').upsert(\n",
    "            [address_data],\n",
    "            on_conflict='country,administrative_area,sub_administrative_area,locality,postal_code,street,premise,sub_premise'\n",
    "        ).execute()\n",
    "        \n",
    "        if address_response.data:\n",
    "            address_id = address_response.data[0]['id']\n",
    "        else:\n",
    "            print(f\"Error upserting address data: {address_response}\")\n",
    "            continue  # Skip to the next entry if address upsert fails\n",
    "        \n",
    "        # Convert None to 0 for numeric entries\n",
    "        price = entry['price'] if entry['price'] is not None else 0\n",
    "        bedrooms = entry['bedrooms'] if entry['bedrooms'] is not None else 0\n",
    "        bathrooms = entry['bathrooms'] if entry['bathrooms'] is not None else 0\n",
    "        square_feet = entry['square_feet'] if entry['square_feet'] is not None else 0\n",
    "        acre_lot = entry['acre_lot'] if entry['acre_lot'] is not None else 0\n",
    "        \n",
    "        property_listing_data = {\n",
    "            'price': price,\n",
    "            'bedrooms': bedrooms,\n",
    "            'bathrooms': bathrooms,\n",
    "            'square_feet': square_feet,\n",
    "            'sale_status': entry['sale_status'],\n",
    "            'acre_lot': acre_lot,\n",
    "            'tour_available': entry['tour_available'],\n",
    "            'image_source': entry['image_source'],\n",
    "            'address_id': address_id\n",
    "        }\n",
    "        \n",
    "        # Use upsert with on_conflict for property listings\n",
    "        # Assuming there's a unique constraint that includes these fields\n",
    "        property_response = supabase.table('property_listings').upsert(\n",
    "            [property_listing_data],\n",
    "            on_conflict='address_id,price,sale_status'  # Assuming address_id is part of a unique constraint\n",
    "        ).execute()\n",
    "        \n",
    "        if property_response.data:\n",
    "            print(f\"Successfully upserted property listing: {property_listing_data}\")\n",
    "        else:\n",
    "            print(f\"Error upserting property listing data: {property_response}\")"
   ]
  }
 ],
 "metadata": {
  "kernelspec": {
   "display_name": "Python 3",
   "language": "python",
   "name": "python3"
  },
  "language_info": {
   "codemirror_mode": {
    "name": "ipython",
    "version": 3
   },
   "file_extension": ".py",
   "mimetype": "text/x-python",
   "name": "python",
   "nbconvert_exporter": "python",
   "pygments_lexer": "ipython3",
   "version": "3.13.2"
  }
 },
 "nbformat": 4,
 "nbformat_minor": 2
}
